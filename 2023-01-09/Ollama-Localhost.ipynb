{
 "cells": [
  {
   "cell_type": "markdown",
   "id": "b4a80645-2885-459f-b529-802857f9fc42",
   "metadata": {},
   "source": [
    "# Invocación de Ollama"
   ]
  },
  {
   "cell_type": "code",
   "execution_count": null,
   "id": "e7c943ce-7626-44b4-90e3-141ab60a1a60",
   "metadata": {},
   "outputs": [],
   "source": [
    "!pip install --quiet langchain"
   ]
  },
  {
   "cell_type": "code",
   "execution_count": 3,
   "id": "d842f1da-a8e2-4f50-84cb-fcafed534bf2",
   "metadata": {},
   "outputs": [
    {
     "name": "stdout",
     "output_type": "stream",
     "text": [
      "The sky appears blue because of a phenomenon called Rayleigh scattering, which occurs when sunlight enters Earth's atmosphere. The sunlight encounters tiny molecules of gases in the air, such as nitrogen and oxygen, which scatters the light in all directions.\n",
      "\n",
      "The shorter wavelengths of light, such as blue and violet, are scattered more than the longer wavelengths, such as red and orange. This is because the smaller wavelengths have a shorter wave length, which allows them to be scattered more easily by the tiny molecules in the air.\n",
      "\n",
      "As a result, the blue light is dispersed throughout the atmosphere, giving the sky its blue appearance. The same process occurs when sunlight passes through water droplets in the air, creating the blue color of a clear day.\n",
      "\n",
      "It's worth noting that the blue color of the sky can vary depending on the time of day and atmospheric conditions. For example, during sunrise and sunset, the sky can take on hues of red, orange, and pink due to the scattering of light by particles in the atmosphere. Additionally, pollution and other airborne particles can scatter light in different ways, creating a range of colors in the sky.\n"
     ]
    }
   ],
   "source": [
    "from langchain.llms import Ollama\n",
    "ollama = Ollama(base_url='http://localhost:11434',model=\"llama2\")\n",
    "print(ollama(\"why is the sky blue\"))"
   ]
  }
 ],
 "metadata": {
  "kernelspec": {
   "display_name": "Python 3 (ipykernel)",
   "language": "python",
   "name": "python3"
  },
  "language_info": {
   "codemirror_mode": {
    "name": "ipython",
    "version": 3
   },
   "file_extension": ".py",
   "mimetype": "text/x-python",
   "name": "python",
   "nbconvert_exporter": "python",
   "pygments_lexer": "ipython3",
   "version": "3.10.12"
  }
 },
 "nbformat": 4,
 "nbformat_minor": 5
}
