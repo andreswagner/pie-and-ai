{
 "cells": [
  {
   "cell_type": "code",
   "execution_count": 4,
   "id": "05dfb225-8f80-4454-bc4c-1724ea076ce7",
   "metadata": {},
   "outputs": [],
   "source": [
    "!pip install --quiet langchain"
   ]
  },
  {
   "cell_type": "code",
   "execution_count": 8,
   "id": "5e95a7f5-7cdd-4217-a9a8-83455d2144f6",
   "metadata": {},
   "outputs": [
    {
     "name": "stdout",
     "output_type": "stream",
     "text": [
      "\n",
      "The sky appears blue to us because of a phenomenon called Rayleigh scattering. When sunlight enters Earth's atmosphere, it encounters tiny molecules of gases such as nitrogen and oxygen. These molecules scatter the light in all directions, but they scatter shorter (blue) wavelengths more than longer (red) wavelengths. This is known as Rayleigh scattering.\n",
      "\n",
      "As a result of this scattering, the blue light is dispersed throughout the atmosphere, giving the sky its blue appearance. The blue light scatters in all directions, but it is most visible when it reflects off of the Earth's surface, creating the illusion of a blue sky.\n",
      "\n",
      "The reason why the sky appears blue during the daytime is because the sunlight is entering the atmosphere at an angle, and the Rayleigh scattering effect is most pronounced when the light is scattered in this way. At nighttime, the sky can appear different colors depending on the amount of light pollution and atmospheric conditions.\n",
      "\n",
      "It's worth noting that the color of the sky can also be affected by other factors such as air pollution, dust, and water vapor. For example, during sunrise and sunset, the sky can take on hues of red, orange, and pink due to the scattering of light by atmospheric particles.\n"
     ]
    }
   ],
   "source": [
    "from langchain.llms import Ollama\n",
    "ollama = Ollama(base_url='http://host.docker.internal:11434',model=\"llama2\")\n",
    "print(ollama(\"why is the sky blue\"))"
   ]
  }
 ],
 "metadata": {
  "kernelspec": {
   "display_name": "Python 3 (ipykernel)",
   "language": "python",
   "name": "python3"
  },
  "language_info": {
   "codemirror_mode": {
    "name": "ipython",
    "version": 3
   },
   "file_extension": ".py",
   "mimetype": "text/x-python",
   "name": "python",
   "nbconvert_exporter": "python",
   "pygments_lexer": "ipython3",
   "version": "3.11.6"
  }
 },
 "nbformat": 4,
 "nbformat_minor": 5
}
