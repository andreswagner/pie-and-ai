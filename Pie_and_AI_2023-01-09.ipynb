{
 "cells": [
  {
   "cell_type": "markdown",
   "id": "61584a0b-f7d5-42f1-9c24-51bddab96553",
   "metadata": {},
   "source": [
    "# Pie&AI 2023-01-09\n"
   ]
  },
  {
   "cell_type": "markdown",
   "id": "5cbb250d-4b0f-4c53-a714-837075eea6fd",
   "metadata": {
    "jp-MarkdownHeadingCollapsed": true
   },
   "source": [
    "## Instalación de librerías"
   ]
  },
  {
   "cell_type": "code",
   "execution_count": 1,
   "id": "534b8c76-a868-4041-ae91-7d4c376574f2",
   "metadata": {},
   "outputs": [],
   "source": [
    "!pip install --quiet chromadb\n",
    "!pip install --quiet langchain"
   ]
  },
  {
   "cell_type": "markdown",
   "id": "fb474421-5c07-47aa-aba8-21e7461d667a",
   "metadata": {},
   "source": [
    "## Interacción con LLM local\n",
    "Dependiendo del lugar que tengamos instalado Jupyter, ya sea directamente en nuestra máquina o en un contenedor docker, la dirección URL que debemos ocupar va a cambiar."
   ]
  },
  {
   "cell_type": "code",
   "execution_count": 2,
   "id": "06becd42-29d7-44de-895b-80a25366fcfa",
   "metadata": {},
   "outputs": [],
   "source": [
    "llm_local='http://localhost:11434'\n",
    "#llm_local='http://host.docker.internal:11434'"
   ]
  },
  {
   "cell_type": "code",
   "execution_count": 3,
   "id": "8d930fa8-5c11-4fad-a4b1-3618452d0f7b",
   "metadata": {},
   "outputs": [
    {
     "name": "stdout",
     "output_type": "stream",
     "text": [
      "\n",
      "El cielo es de un color azulado claro y desvaído, pero también puede variar dependiendo de la hora del día, la temperatura y la humedad del aire. Aquí te presento algunas respuestas comunes a esta pregunta:\n",
      "\n",
      "* El cielo es azul: Este es el color más comúnmente asociado con el cielo, ya que es el resultado de la dispersión de la luz solar en la atmósfera. La luz azul es la más fácil de dispersar, lo que da lugar a un cielo azulado claro durante el día.\n",
      "* El cielo es gris: Si el cielo se ve grisáceo o desvaído, puede ser debido a la presencia de nubes o humedad en la atmósfera. Estas condiciones pueden hacer que el cielo parezca más gris que azul.\n",
      "* El cielo es rojo: A veces, especialmente durante el alba o antes del amanecer, el cielo puede tomar un tono rojizo debido a la dispersión de la luz solar en la atmósfera. Este efecto es conocido como \"alba roja\".\n",
      "* El cielo es una mezcla de colores: En algunos casos, el cielo puede tener un tono que combina diferentes colores, como un azul claro con tonos de rojo o naranja. Esto puede deberse a la presencia de nubes o partículas en la atmósfera que dispersan la luz de manera diferente.\n",
      "* El cielo es indefinido: En algunas ocasiones, el cielo puede parecer indefinido o sin color, especialmente si hay muchas nubes o una densa niebla. En estos casos, el cielo no presenta un color claro y se ve más obscuro o grisáceo.\n",
      "\n",
      "En resumen, el color del cielo puede variar dependiendo de varias condiciones meteorológicas y la dispersión de la luz solar en la atmósfera.\n"
     ]
    }
   ],
   "source": [
    "from langchain.llms import Ollama\n",
    "ollama_llama2 = Ollama(base_url=llm_local,model=\"llama2\")\n",
    "print(ollama_llama2(\"¿De qué color es el cielo? Español\"))"
   ]
  },
  {
   "cell_type": "code",
   "execution_count": 4,
   "id": "f77cb0df-4b83-4338-a3d5-2758e23e3657",
   "metadata": {},
   "outputs": [
    {
     "name": "stdout",
     "output_type": "stream",
     "text": [
      " El cielo puede verse de distintos colores dependiendo de la hora del día y las condiciones meteorológicas. A menudo, se describe como azul durante un día despejado. Sin embargo, puede ser rojo o naranja antes del amanecer o después del anochecer, gris cubierto de nubes, negro en condiciones nebulosas o oscuras, o incluso blanco si hay una nevada. Por lo general, cuando se pregunta por el color del cielo, se supone que está despejado y azul.\n"
     ]
    }
   ],
   "source": [
    "ollama_mistral = Ollama(base_url=llm_local,model=\"mistral:instruct\")\n",
    "print(ollama_mistral(\"¿De qué color es el cielo? Español\"))"
   ]
  },
  {
   "cell_type": "markdown",
   "id": "7920f2ca-aa68-4285-8de5-86f18b9be8f0",
   "metadata": {},
   "source": [
    "## Vectorización de Contenidos"
   ]
  },
  {
   "cell_type": "markdown",
   "id": "90003884-b9ae-498e-8fcb-027e55291b72",
   "metadata": {},
   "source": [
    "### Sabático marital\n",
    "Aseguran que esa práctica da mayor esperanza de vida a los matrimonios y los fortalece. Quienes defienden este concepto recalcan que es esencial destacar que no se concibe como una solución para los problemas conyugales, sino más bien como una oportunidad para renovar el compromiso a través del crecimiento personal. El sabático marital se considera como un tiempo de reencuentro con la individualidad, ya que funcionar simbióticamente 24/7 por muy independientes que cada uno sea no es natural."
   ]
  },
  {
   "cell_type": "code",
   "execution_count": 5,
   "id": "96a539af-1afb-44b3-8472-3e428485a48e",
   "metadata": {},
   "outputs": [],
   "source": [
    "sabatico_marital=(\n",
    "    \"Aseguran que esa práctica da mayor esperanza de vida a los matrimonios y los fortalece.\" \n",
    "    \"Quienes defienden este concepto recalcan que es esencial destacar que no se concibe como \"\n",
    "    \"una solución para los problemas conyugales, sino más bien como una oportunidad para renovar \"\n",
    "    \"el compromiso a través del crecimiento personal. El sabático marital se considera como un \"\n",
    "    \"tiempo de reencuentro con la individualidad, ya que funcionar simbióticamente 24/7 por muy \"\n",
    "    \"independientes que cada uno sea no es natural.\")"
   ]
  },
  {
   "cell_type": "markdown",
   "id": "c3217ab6-a615-4b4f-9095-236f2b71269d",
   "metadata": {},
   "source": [
    "### Oppenheimer\n",
    "Con cinco Globos de Oro, el filme 'Oppenheimer', de Christopher Nolan, salió victorioso de su primer enfrentamiento con la supertaquillera 'Barbie', que partía como favorita de la noche, pero que tan solo ganó dos de los nueve premios a los que optaba. La cinta protagonizada por Cillian Murphy, que versa sobre el físico Robert Oppenheimer, nombrado el padre de la bomba atómica, se llevó los galardones a mejor película de drama, mejor director, mejor actor de drama, mejor actor de reparto y mejor banda sonora."
   ]
  },
  {
   "cell_type": "code",
   "execution_count": 6,
   "id": "34bb86c8-8fac-4752-a733-79c8443d15e2",
   "metadata": {},
   "outputs": [],
   "source": [
    "oppenheimer=(\n",
    "    \"Con cinco Globos de Oro, el filme 'Oppenheimer', de Christopher Nolan, salió victorioso de \"\n",
    "    \"su primer enfrentamiento con la supertaquillera 'Barbie', que partía como favorita de la noche, \"\n",
    "    \"pero que tan solo ganó dos de los nueve premios a los que optaba. La cinta protagonizada por \"\n",
    "    \"Cillian Murphy, que versa sobre el físico Robert Oppenheimer, nombrado el padre de la bomba atómica, \"\n",
    "    \"se llevó los galardones a mejor película de drama, mejor director, mejor actor de drama, mejor actor \"\n",
    "    \"de reparto y mejor banda sonora.\")\n"
   ]
  },
  {
   "cell_type": "markdown",
   "id": "c427613e-3065-44ab-bbef-25ebe099a659",
   "metadata": {},
   "source": [
    "### Amenaza inflacionaria proveniente del Mar Rojo\n",
    "El IPC del último mes del año registró un sorpresivo retroceso mensual de 0,5%, y ahora los ojos de los economistas están puestos en las nuevas contingencias que podrían poner presión a los precios en Chile durante 2024. Los expertos abordaron una de las amenazas que se asoman en el horizonte: el conflicto en el mar Rojo, el cual ha sido escenario de ataques de los rebeldes hutíes de Yemen a los buques que transitan por la zona."
   ]
  },
  {
   "cell_type": "code",
   "execution_count": 7,
   "id": "f9c6ce11-b870-44fb-b957-35c05de236f5",
   "metadata": {},
   "outputs": [],
   "source": [
    "amenaza_inflacionaria=(\n",
    "    \"El IPC del último mes del año registró un sorpresivo retroceso mensual de 0,5%, y ahora los ojos \"\n",
    "    \"de los economistas están puestos en las nuevas contingencias que podrían poner presión a los precios \"\n",
    "    \"en Chile durante 2024. Los expertos abordaron una de las amenazas que se asoman en el horizonte: \"\n",
    "    \"el conflicto en el mar Rojo, el cual ha sido escenario de ataques de los rebeldes hutíes de Yemen \"\n",
    "    \"a los buques que transitan por la zona.\")"
   ]
  },
  {
   "cell_type": "markdown",
   "id": "b03e837f-23e5-41a2-bb34-ffba073a03e2",
   "metadata": {},
   "source": [
    "### Tipo de Cambio\n",
    "Dólar anota su mayor alza en casi seis meses y vuelve a ubicarse sobre los $900 tras sorpresiva caída del IPCEl billete verde, además, alcanzó su mayor precio desde mediados de noviembre. El dólar se disparó este lunes en el mercado cambiario local y registró su mayor alza diaria en casi seis meses, luego de que el Índice de Precios al Consumidor (IPC) sorprendiera al mercado con una variación mensual negativa de -0,5%."
   ]
  },
  {
   "cell_type": "code",
   "execution_count": 8,
   "id": "7c5e2b9a-14f6-4365-8fe1-e08d3521b9f5",
   "metadata": {},
   "outputs": [],
   "source": [
    "tipo_de_cambio=(\n",
    "    \"Dólar anota su mayor alza en casi seis meses y vuelve a ubicarse sobre los $900 tras sorpresiva caída \"\n",
    "    \"del IPC. El billete verde, además, alcanzó su mayor precio desde mediados de noviembre. \"\n",
    "    \"El dólar se disparó este lunes en el mercado cambiario local y registró su mayor alza diaria en casi seis meses, \"\n",
    "    \"luego de que el Índice de Precios al Consumidor (IPC) sorprendiera al mercado con una variación mensual negativa de -0,5%.\")"
   ]
  },
  {
   "cell_type": "markdown",
   "id": "d24bde8d-75e4-49f2-8762-46b92eafc982",
   "metadata": {},
   "source": [
    "### ChromaDB\n",
    "Los artículos anteriores los vamos a cargar en una base vectorial como es el caso de ChromaDB"
   ]
  },
  {
   "cell_type": "code",
   "execution_count": 11,
   "id": "471a9d5e-bba5-4fcf-a5e6-e859f1d70736",
   "metadata": {},
   "outputs": [],
   "source": [
    "import chromadb\n",
    "chroma_client = chromadb.Client()"
   ]
  },
  {
   "cell_type": "code",
   "execution_count": 12,
   "id": "7b12648d-57d0-40ef-a582-a043a5c58572",
   "metadata": {},
   "outputs": [],
   "source": [
    "collection = chroma_client.create_collection(name=\"mis_noticias\")"
   ]
  },
  {
   "cell_type": "markdown",
   "id": "ffb95476-ee8f-43bf-9550-a0f66b30e471",
   "metadata": {},
   "source": [
    "Cada una de los artículos los almacenaremos con un identificador único"
   ]
  },
  {
   "cell_type": "code",
   "execution_count": 13,
   "id": "bfd4bf98-a4ea-4c01-9dab-7d17df871d05",
   "metadata": {},
   "outputs": [],
   "source": [
    "collection.upsert(\n",
    "    documents=[sabatico_marital, oppenheimer, amenaza_inflacionaria, tipo_de_cambio],\n",
    "    ids=[\"id1\", \"id2\",\"id3\",\"id4\"]\n",
    ")"
   ]
  },
  {
   "cell_type": "markdown",
   "id": "0d906ae1-366d-411f-944d-f7d8234a7ecc",
   "metadata": {},
   "source": [
    "Aunque todavía no ocupamos los embeddings, es posible hacer una consulta tradicional solamente basada en texto como se muestra en el ejemplo a continuación"
   ]
  },
  {
   "cell_type": "code",
   "execution_count": 14,
   "id": "e4cdbb74-8db3-441f-b941-600c6a587637",
   "metadata": {},
   "outputs": [
    {
     "name": "stdout",
     "output_type": "stream",
     "text": [
      "{'ids': [['id4']], 'distances': [[1.255588173866272]], 'metadatas': [[None]], 'embeddings': None, 'documents': [['Dólar anota su mayor alza en casi seis meses y vuelve a ubicarse sobre los $900 tras sorpresiva caída del IPC. El billete verde, además, alcanzó su mayor precio desde mediados de noviembre. El dólar se disparó este lunes en el mercado cambiario local y registró su mayor alza diaria en casi seis meses, luego de que el Índice de Precios al Consumidor (IPC) sorprendiera al mercado con una variación mensual negativa de -0,5%.']], 'uris': None, 'data': None}\n"
     ]
    }
   ],
   "source": [
    "results = collection.query(\n",
    "    query_texts=[\"IPC\"],\n",
    "    n_results=1\n",
    ")\n",
    "print(results)"
   ]
  },
  {
   "cell_type": "markdown",
   "id": "2e0f492f-de91-4c23-81c3-21d959222592",
   "metadata": {},
   "source": [
    "### Embeddings\n",
    "Ahora procederemos a ocupar un embedding para obtener una prepresentación numérmica de los contenidos. Para lograr este objetivo podemos optar por varias alternativas, en este caso seleccionaremos un modelo desde HuggingFace que sea pequeño y esté entrenado para representaciones de varios lenguajes incluyendo el español. \n",
    "\n",
    "Un aspecto interesante de HuggingFace es que ofrece un reporte de competición para distintos modelos en variadas categorías, con lo cual uno puede decidir con más antecedentes respecto a qué modelo utilizar. Este reporte se encuentra en la siguiente dirección: https://huggingface.co/spaces/mteb/leaderboard"
   ]
  },
  {
   "cell_type": "code",
   "execution_count": 15,
   "id": "0c6010e2-0485-4f2b-a697-5df9d2fd83bf",
   "metadata": {},
   "outputs": [
    {
     "name": "stdin",
     "output_type": "stream",
     "text": [
      "Please enter your HuggingFace api key (hit enter):  ········\n"
     ]
    }
   ],
   "source": [
    "import getpass\n",
    "import chromadb.utils.embedding_functions as embedding_functions\n",
    "huggingface_ef = embedding_functions.HuggingFaceEmbeddingFunction(\n",
    "    api_key=getpass.getpass(\"Please enter your HuggingFace api key (hit enter): \"),\n",
    "    model_name=\"intfloat/multilingual-e5-small\"\n",
    ")"
   ]
  },
  {
   "cell_type": "code",
   "execution_count": 16,
   "id": "c2f76d6b-170b-415f-9d31-540d2fee1262",
   "metadata": {},
   "outputs": [],
   "source": [
    "e1 = huggingface_ef([sabatico_marital])\n",
    "e2 = huggingface_ef([oppenheimer])\n",
    "e3 = huggingface_ef([amenaza_inflacionaria])\n",
    "e4 = huggingface_ef([tipo_de_cambio])"
   ]
  },
  {
   "cell_type": "code",
   "execution_count": 17,
   "id": "ca68b0eb-eba6-425b-88d4-9107a6186bc0",
   "metadata": {},
   "outputs": [
    {
     "data": {
      "text/plain": [
       "[[0.024619489908218384,\n",
       "  -0.04784009978175163,\n",
       "  -0.07181398570537567,\n",
       "  -0.08859077841043472,\n",
       "  0.03747155889868736,\n",
       "  -0.06995265930891037,\n",
       "  0.11186939477920532,\n",
       "  -0.011604849249124527,\n",
       "  0.06711650639772415,\n",
       "  0.023134395480155945,\n",
       "  0.006347997114062309,\n",
       "  0.008518551476299763,\n",
       "  0.03482840582728386,\n",
       "  -0.017575211822986603,\n",
       "  -0.011859552003443241,\n",
       "  0.03630281239748001,\n",
       "  0.10768643766641617,\n",
       "  -0.080815389752388,\n",
       "  -0.04825270548462868,\n",
       "  -0.02043488621711731,\n",
       "  0.0018401275156065822,\n",
       "  0.0003183680819347501,\n",
       "  -0.06565111875534058,\n",
       "  0.03417714312672615,\n",
       "  0.08360632508993149,\n",
       "  0.10626253485679626,\n",
       "  0.0022943257354199886,\n",
       "  0.04927118122577667,\n",
       "  0.08658336102962494,\n",
       "  -0.04226937144994736,\n",
       "  -0.06377838551998138,\n",
       "  -0.008808248676359653,\n",
       "  0.06534801423549652,\n",
       "  -0.04638390243053436,\n",
       "  0.07885824888944626,\n",
       "  0.03063141368329525,\n",
       "  -0.04741556569933891,\n",
       "  -0.05991578847169876,\n",
       "  0.04486798495054245,\n",
       "  -0.08435405045747757,\n",
       "  -0.042173776775598526,\n",
       "  -0.012954963371157646,\n",
       "  0.08713984489440918,\n",
       "  0.06417682021856308,\n",
       "  0.07398758828639984,\n",
       "  0.041544198989868164,\n",
       "  -0.042590897530317307,\n",
       "  0.08667528629302979,\n",
       "  -0.03318382799625397,\n",
       "  -0.034458890557289124,\n",
       "  -0.04339324310421944,\n",
       "  0.05695236846804619,\n",
       "  0.03086712583899498,\n",
       "  0.07203144580125809,\n",
       "  0.036257170140743256,\n",
       "  -0.057026829570531845,\n",
       "  -0.09249214828014374,\n",
       "  -0.01742370054125786,\n",
       "  -0.04966055229306221,\n",
       "  0.05496331676840782,\n",
       "  0.017940951511263847,\n",
       "  0.04638127237558365,\n",
       "  -0.037027325481176376,\n",
       "  0.02343057654798031,\n",
       "  0.04791002720594406,\n",
       "  0.07514236867427826,\n",
       "  -0.006224252749234438,\n",
       "  0.03660468012094498,\n",
       "  -0.055269259959459305,\n",
       "  0.006120078731328249,\n",
       "  -0.02755008451640606,\n",
       "  0.09728753566741943,\n",
       "  0.013548092916607857,\n",
       "  -0.019991258159279823,\n",
       "  -0.016338864341378212,\n",
       "  0.042646557092666626,\n",
       "  0.06925122439861298,\n",
       "  -0.05257982388138771,\n",
       "  0.008749749511480331,\n",
       "  -0.004992619622498751,\n",
       "  0.005659947171807289,\n",
       "  -0.04378001019358635,\n",
       "  -0.0531618669629097,\n",
       "  0.011176269501447678,\n",
       "  -0.04284992814064026,\n",
       "  0.07578835636377335,\n",
       "  0.046475108712911606,\n",
       "  -0.04104619473218918,\n",
       "  0.03716723620891571,\n",
       "  -0.001089471741579473,\n",
       "  0.11080091446638107,\n",
       "  0.051189959049224854,\n",
       "  -0.06309182196855545,\n",
       "  -0.042323317378759384,\n",
       "  -0.01621861383318901,\n",
       "  -0.0716191977262497,\n",
       "  -0.07206401973962784,\n",
       "  0.009041414596140385,\n",
       "  0.046222805976867676,\n",
       "  -0.03313378617167473,\n",
       "  0.06849408894777298,\n",
       "  -0.06549727916717529,\n",
       "  0.04027627408504486,\n",
       "  -0.06170443817973137,\n",
       "  -0.04966157302260399,\n",
       "  0.055603090673685074,\n",
       "  0.024447832256555557,\n",
       "  -0.01670592650771141,\n",
       "  0.04652434214949608,\n",
       "  -0.08639423549175262,\n",
       "  -0.04037436097860336,\n",
       "  0.009401380084455013,\n",
       "  0.10621128231287003,\n",
       "  -0.004467196762561798,\n",
       "  -0.042094554752111435,\n",
       "  0.0018814969807863235,\n",
       "  0.03504982590675354,\n",
       "  -0.05185543745756149,\n",
       "  0.07661837339401245,\n",
       "  -0.07559540867805481,\n",
       "  0.09373143315315247,\n",
       "  -0.03936906158924103,\n",
       "  -0.05334990471601486,\n",
       "  -0.0771939605474472,\n",
       "  -0.01964155025780201,\n",
       "  -0.08190806210041046,\n",
       "  0.019058359786868095,\n",
       "  0.07263557612895966,\n",
       "  0.024388877674937248,\n",
       "  0.09930412471294403,\n",
       "  0.05646722763776779,\n",
       "  0.003404624294489622,\n",
       "  0.05137910321354866,\n",
       "  0.027320487424731255,\n",
       "  0.05792442336678505,\n",
       "  0.12368517369031906,\n",
       "  -0.05468563362956047,\n",
       "  0.01967327855527401,\n",
       "  -0.054828375577926636,\n",
       "  -0.0449664369225502,\n",
       "  -0.03382263332605362,\n",
       "  0.01771581545472145,\n",
       "  -0.035054050385951996,\n",
       "  0.07803396880626678,\n",
       "  0.0631837248802185,\n",
       "  0.03201962262392044,\n",
       "  0.05280786007642746,\n",
       "  -0.0655021145939827,\n",
       "  0.0733042061328888,\n",
       "  -0.06872428208589554,\n",
       "  0.020042117685079575,\n",
       "  -0.015673162415623665,\n",
       "  0.04643901810050011,\n",
       "  0.02907041274011135,\n",
       "  0.04060409963130951,\n",
       "  -0.065431147813797,\n",
       "  -0.06849145144224167,\n",
       "  -0.049114327877759933,\n",
       "  0.056848105043172836,\n",
       "  0.03279794752597809,\n",
       "  -0.09056522697210312,\n",
       "  -0.04906703531742096,\n",
       "  -0.06920294463634491,\n",
       "  -0.018411271274089813,\n",
       "  -0.006316587794572115,\n",
       "  -0.0851992666721344,\n",
       "  0.01944737322628498,\n",
       "  0.07848699390888214,\n",
       "  -0.05347738787531853,\n",
       "  -0.02924935147166252,\n",
       "  -0.0530109778046608,\n",
       "  0.0643611028790474,\n",
       "  -0.010052450932562351,\n",
       "  0.024139024317264557,\n",
       "  0.01584339141845703,\n",
       "  0.06070590019226074,\n",
       "  -0.05409282073378563,\n",
       "  0.05576736852526665,\n",
       "  0.09164848923683167,\n",
       "  0.004943010862916708,\n",
       "  -0.011247481219470501,\n",
       "  -0.05855116248130798,\n",
       "  -0.014297558926045895,\n",
       "  -0.03744503855705261,\n",
       "  -0.09665326029062271,\n",
       "  -0.018207767978310585,\n",
       "  -0.08776187896728516,\n",
       "  -0.008323779329657555,\n",
       "  0.013731013052165508,\n",
       "  -0.02166566252708435,\n",
       "  0.018707655370235443,\n",
       "  0.030459357425570488,\n",
       "  0.0008802898228168488,\n",
       "  -0.03534312918782234,\n",
       "  -0.02975447103381157,\n",
       "  0.028030460700392723,\n",
       "  -0.052714161574840546,\n",
       "  0.05684267729520798,\n",
       "  0.058462053537368774,\n",
       "  0.054413922131061554,\n",
       "  -0.028825361281633377,\n",
       "  -0.055267903953790665,\n",
       "  0.029311658814549446,\n",
       "  0.022958004847168922,\n",
       "  0.03887590020895004,\n",
       "  -0.039882924407720566,\n",
       "  -0.03369063884019852,\n",
       "  0.06343461573123932,\n",
       "  -0.043015480041503906,\n",
       "  0.040687717497348785,\n",
       "  0.02767634019255638,\n",
       "  -0.05798787623643875,\n",
       "  -0.03157855570316315,\n",
       "  0.02007943019270897,\n",
       "  0.014090286567807198,\n",
       "  -0.019829683005809784,\n",
       "  -0.008830282837152481,\n",
       "  0.08248230069875717,\n",
       "  -0.06471416354179382,\n",
       "  -0.006692979019135237,\n",
       "  0.04106612876057625,\n",
       "  0.008975990116596222,\n",
       "  0.042927101254463196,\n",
       "  -0.09594409167766571,\n",
       "  -0.001337195746600628,\n",
       "  0.02493968978524208,\n",
       "  -0.01438783761113882,\n",
       "  -0.06759854406118393,\n",
       "  -0.06806451827287674,\n",
       "  0.055239349603652954,\n",
       "  -0.05406276881694794,\n",
       "  0.027129853144288063,\n",
       "  -0.041008491069078445,\n",
       "  -0.06735334545373917,\n",
       "  -0.044192101806402206,\n",
       "  -0.10843849927186966,\n",
       "  0.036791108548641205,\n",
       "  0.00026668532518669963,\n",
       "  0.030517447739839554,\n",
       "  -0.02891583740711212,\n",
       "  -0.027856864035129547,\n",
       "  -0.003811777802184224,\n",
       "  0.018242843449115753,\n",
       "  -0.022571444511413574,\n",
       "  0.06069266051054001,\n",
       "  -0.03240891918540001,\n",
       "  -0.014840570278465748,\n",
       "  0.006148408632725477,\n",
       "  -0.0493115596473217,\n",
       "  0.03697584941983223,\n",
       "  0.0292506106197834,\n",
       "  -0.09962356835603714,\n",
       "  -0.06599917262792587,\n",
       "  -0.06706462800502777,\n",
       "  -0.02081795036792755,\n",
       "  -0.007327977567911148,\n",
       "  -0.0014443816617131233,\n",
       "  0.034687340259552,\n",
       "  -0.08466530591249466,\n",
       "  -0.009790623560547829,\n",
       "  0.04761626571416855,\n",
       "  -0.04640236496925354,\n",
       "  0.06359189003705978,\n",
       "  0.03482474014163017,\n",
       "  0.06377781182527542,\n",
       "  0.0013625058345496655,\n",
       "  -0.04591549560427666,\n",
       "  -0.03969544172286987,\n",
       "  -0.03905479982495308,\n",
       "  -0.039474472403526306,\n",
       "  -0.05288800969719887,\n",
       "  -0.017103787511587143,\n",
       "  0.09154471009969711,\n",
       "  -0.038883958011865616,\n",
       "  0.002274480415508151,\n",
       "  -0.018390262499451637,\n",
       "  0.0179074015468359,\n",
       "  0.05559982359409332,\n",
       "  -0.06728500872850418,\n",
       "  -0.007404669187963009,\n",
       "  0.03709644451737404,\n",
       "  0.033732909709215164,\n",
       "  0.05009438842535019,\n",
       "  0.0760774090886116,\n",
       "  0.025965722277760506,\n",
       "  -0.03311372920870781,\n",
       "  -0.000367342698154971,\n",
       "  0.052092406898736954,\n",
       "  -0.02800300158560276,\n",
       "  -0.01644342951476574,\n",
       "  0.01621720939874649,\n",
       "  -0.028845198452472687,\n",
       "  0.0976538211107254,\n",
       "  -0.03209000453352928,\n",
       "  0.004043404012918472,\n",
       "  0.014750399626791477,\n",
       "  -0.014857081696391106,\n",
       "  0.07902085781097412,\n",
       "  -0.024494413286447525,\n",
       "  0.05364551767706871,\n",
       "  -0.007375383283942938,\n",
       "  0.001720830099657178,\n",
       "  -0.013184774667024612,\n",
       "  0.03688602149486542,\n",
       "  -0.05142045021057129,\n",
       "  0.04602676257491112,\n",
       "  0.007402787450700998,\n",
       "  0.014263832941651344,\n",
       "  0.08061672747135162,\n",
       "  0.053489748388528824,\n",
       "  0.04151494801044464,\n",
       "  0.0889180600643158,\n",
       "  -0.057068001478910446,\n",
       "  -0.04026588052511215,\n",
       "  0.08437657356262207,\n",
       "  0.07743266224861145,\n",
       "  -0.017657514661550522,\n",
       "  0.0332387313246727,\n",
       "  -0.06431854516267776,\n",
       "  -0.046996597200632095,\n",
       "  -0.0370030477643013,\n",
       "  -0.04754139482975006,\n",
       "  0.014055549167096615,\n",
       "  -0.05043957382440567,\n",
       "  0.03832920640707016,\n",
       "  0.023653067648410797,\n",
       "  -0.061667922884225845,\n",
       "  -0.030237475410103798,\n",
       "  0.06254678219556808,\n",
       "  -0.02745521441102028,\n",
       "  0.03281927481293678,\n",
       "  -0.052956946194171906,\n",
       "  -0.0973326563835144,\n",
       "  0.06049221381545067,\n",
       "  -0.07084621489048004,\n",
       "  -0.04063117504119873,\n",
       "  -0.07046186923980713,\n",
       "  0.05525236949324608,\n",
       "  -0.01803257130086422,\n",
       "  -0.07957710325717926,\n",
       "  0.04614268243312836,\n",
       "  0.004484161734580994,\n",
       "  -0.015210459940135479,\n",
       "  0.07211165875196457,\n",
       "  0.0012035967083647847,\n",
       "  -0.06337697058916092,\n",
       "  0.04445379227399826,\n",
       "  -0.03205262869596481,\n",
       "  -0.04107026755809784,\n",
       "  0.02440675161778927,\n",
       "  -0.00661122053861618,\n",
       "  -0.139700785279274,\n",
       "  0.026261812075972557,\n",
       "  0.026436524465680122,\n",
       "  -0.06434503942728043,\n",
       "  0.04167620465159416,\n",
       "  -0.043381523340940475,\n",
       "  -0.018746228888630867,\n",
       "  0.05536805838346481,\n",
       "  0.015137868002057076,\n",
       "  -0.06260161846876144,\n",
       "  -0.020257247611880302,\n",
       "  0.005368940532207489,\n",
       "  0.0637115091085434,\n",
       "  0.11051899939775467,\n",
       "  0.011492596007883549,\n",
       "  -0.01757514663040638,\n",
       "  -0.06396522372961044,\n",
       "  -0.011813018471002579,\n",
       "  -0.06568578630685806,\n",
       "  0.032831523567438126,\n",
       "  0.04973054677248001,\n",
       "  -0.010120153427124023,\n",
       "  0.009257196448743343,\n",
       "  0.010928536765277386,\n",
       "  -0.005989746190607548,\n",
       "  -0.1124965026974678,\n",
       "  0.04867547005414963,\n",
       "  -0.07054166495800018,\n",
       "  -0.06651686131954193,\n",
       "  0.03223586454987526,\n",
       "  0.06673411279916763,\n",
       "  0.018854523077607155,\n",
       "  0.036863699555397034]]"
      ]
     },
     "execution_count": 17,
     "metadata": {},
     "output_type": "execute_result"
    }
   ],
   "source": [
    "e1"
   ]
  },
  {
   "cell_type": "code",
   "execution_count": 18,
   "id": "8992f61d-09a0-4291-ab2a-d853c44a768b",
   "metadata": {},
   "outputs": [
    {
     "data": {
      "text/plain": [
       "384"
      ]
     },
     "execution_count": 18,
     "metadata": {},
     "output_type": "execute_result"
    }
   ],
   "source": [
    "len(e1[0])"
   ]
  },
  {
   "cell_type": "markdown",
   "id": "a297a50c-6a6e-4058-8534-c8549e23b14a",
   "metadata": {},
   "source": [
    "Ahora que tenemos los embeddings, procedemos a cargar nuevamente los artículos, para lo cual primero debemos proceder a eliminar lo que habíamos hecho anteriormente "
   ]
  },
  {
   "cell_type": "code",
   "execution_count": 19,
   "id": "326b823f-0f63-4972-b561-e33e5cfe6709",
   "metadata": {},
   "outputs": [],
   "source": [
    "chroma_client.delete_collection(\"mis_noticias\")"
   ]
  },
  {
   "cell_type": "code",
   "execution_count": 20,
   "id": "46edcfad-dc38-4314-b31e-c1f151108e5e",
   "metadata": {},
   "outputs": [],
   "source": [
    "collection = chroma_client.create_collection(\n",
    "    name=\"mis_noticias\",\n",
    "    metadata={\"hnsw:space\": \"cosine\"})\n",
    "collection.add(\n",
    "    documents=[sabatico_marital, oppenheimer, amenaza_inflacionaria, tipo_de_cambio],\n",
    "    ids=[\"id1\", \"id2\",\"id3\",\"id4\"],\n",
    "    embeddings=[e1[0],e2[0],e3[0],e4[0]]\n",
    ")"
   ]
  },
  {
   "cell_type": "markdown",
   "id": "9b0e5755-49b7-4139-9c58-d3301bffc725",
   "metadata": {},
   "source": [
    "Una vez que tenemos los documentos con sus respectivas representaciones numéricas, podemos comenzar con nuestra primera búsqueda. Para ello, la pregunta también debe ser representada numéricamente utilizando el mismo embedding que ocupamos para los artículos."
   ]
  },
  {
   "cell_type": "code",
   "execution_count": 21,
   "id": "b9213652-45c1-4fc9-a50a-74f2ec209ff0",
   "metadata": {},
   "outputs": [],
   "source": [
    "pregunta=\"¿Cómo afectó el IPC el precio del dólar?\""
   ]
  },
  {
   "cell_type": "code",
   "execution_count": 22,
   "id": "ae5dadef-347f-47ba-a384-39d127527bb1",
   "metadata": {},
   "outputs": [],
   "source": [
    "eq = huggingface_ef([pregunta])"
   ]
  },
  {
   "cell_type": "code",
   "execution_count": 23,
   "id": "8e2a18fa-cfe0-43df-868f-164c7cb29ff9",
   "metadata": {},
   "outputs": [
    {
     "data": {
      "text/plain": [
       "{'ids': [['id4']],\n",
       " 'distances': [[0.10678166151046753]],\n",
       " 'metadatas': [[None]],\n",
       " 'embeddings': None,\n",
       " 'documents': [['Dólar anota su mayor alza en casi seis meses y vuelve a ubicarse sobre los $900 tras sorpresiva caída del IPC. El billete verde, además, alcanzó su mayor precio desde mediados de noviembre. El dólar se disparó este lunes en el mercado cambiario local y registró su mayor alza diaria en casi seis meses, luego de que el Índice de Precios al Consumidor (IPC) sorprendiera al mercado con una variación mensual negativa de -0,5%.']],\n",
       " 'uris': None,\n",
       " 'data': None}"
      ]
     },
     "execution_count": 23,
     "metadata": {},
     "output_type": "execute_result"
    }
   ],
   "source": [
    "result= collection.query(\n",
    "    query_embeddings=eq,\n",
    "    n_results=1,\n",
    ")\n",
    "result"
   ]
  },
  {
   "cell_type": "markdown",
   "id": "9845a152-9d76-4908-ae9e-899b58afb0a6",
   "metadata": {},
   "source": [
    "## RAG\n",
    "Para efectos de aprendizaje, asumiremos que después de la búsqueda en ChromaDB hemos encontrado el mejor documento para poder responder a la pregunta. El siguiente paso es entonces pedirle a un LLM que en base a una pregunta genere una respuesta en lenguaje natural. En este momento es cuando entramos al *Prompt Engineering*"
   ]
  },
  {
   "cell_type": "code",
   "execution_count": 24,
   "id": "df3d7490-5393-42db-aeef-aae80f6e6066",
   "metadata": {},
   "outputs": [
    {
     "data": {
      "text/plain": [
       "'PREGUNTA: ¿Cómo afectó el IPC el precio del dólar?'"
      ]
     },
     "execution_count": 24,
     "metadata": {},
     "output_type": "execute_result"
    }
   ],
   "source": [
    "pregunta=\"PREGUNTA: ¿Cómo afectó el IPC el precio del dólar?\"\n",
    "pregunta"
   ]
  },
  {
   "cell_type": "code",
   "execution_count": 25,
   "id": "be5ec228-f9f9-4fb1-b408-a10ddf5e92c3",
   "metadata": {},
   "outputs": [
    {
     "data": {
      "text/plain": [
       "\"CONTEXTO: Dólar anota su mayor alza en casi seis meses y vuelve a ubicarse sobre los $900 tras sorpresiva caída del IPC. El billete verde, además, alcanzó su mayor precio desde mediadosde noviembre. El dólar se disparó este lunes en el mercado cambiario local y registró su mayor alza diaria en casi seis meses, luego de que el Índice de Precios al Consumidor (IPC) sorprendiera al mercado con una variación mensual negativa de -0,5%.'\""
      ]
     },
     "execution_count": 25,
     "metadata": {},
     "output_type": "execute_result"
    }
   ],
   "source": [
    "# El contexto se conforma a partir de los documentos encontrados. Estos pueden ser uno o varios, pero siempre debe\n",
    "# considerarse la limitación de memoria que tiene cada LLM.\n",
    "\n",
    "contexto=(\"CONTEXTO: Dólar anota su mayor alza en casi seis meses y vuelve a ubicarse sobre los $900 \"\n",
    "    \"tras sorpresiva caída del IPC. El billete verde, además, alcanzó su mayor precio desde mediados\"\n",
    "    \"de noviembre. El dólar se disparó este lunes en el mercado cambiario local y registró su mayor \"\n",
    "    \"alza diaria en casi seis meses, luego de que el Índice de Precios al Consumidor (IPC) \"\n",
    "    \"sorprendiera al mercado con una variación mensual negativa de -0,5%.'\")\n",
    "contexto"
   ]
  },
  {
   "cell_type": "code",
   "execution_count": 26,
   "id": "a0edc0af-2704-419d-abe1-646f8bdb1c2e",
   "metadata": {},
   "outputs": [
    {
     "data": {
      "text/plain": [
       "\"Tus respuestas deben ser breves, fundamentadas en el CONTEXTO y siempre en español. Responde a la siguiente PREGUNTA exclusivamente en base al siguiente CONTEXTO. En caso que el CONTEXTO no permita contestar la pregunta responde:'no se la respuesta'. PREGUNTA: ¿Cómo afectó el IPC el precio del dólar? CONTEXTO: Dólar anota su mayor alza en casi seis meses y vuelve a ubicarse sobre los $900 tras sorpresiva caída del IPC. El billete verde, además, alcanzó su mayor precio desde mediadosde noviembre. El dólar se disparó este lunes en el mercado cambiario local y registró su mayor alza diaria en casi seis meses, luego de que el Índice de Precios al Consumidor (IPC) sorprendiera al mercado con una variación mensual negativa de -0,5%.'\""
      ]
     },
     "execution_count": 26,
     "metadata": {},
     "output_type": "execute_result"
    }
   ],
   "source": [
    "# El prompt es la instrucción que le proporcionamos a un LLM para guiar la generación de texto en este caso.\n",
    "# En este caso vamos a solicitar que esté ajustada a los antecdentes que le estamos compartiendo (contexto),\n",
    "# y que responder si no puede elaborar la respuesta en base a esos antecedentes\n",
    "\n",
    "prompt_es=(\n",
    "    \"Tus respuestas deben ser breves, fundamentadas en el CONTEXTO y siempre en español. \"\n",
    "    \"Responde a la siguiente PREGUNTA exclusivamente en base al siguiente CONTEXTO. \"\n",
    "    \"En caso que el CONTEXTO no permita contestar la pregunta responde:'no se la respuesta'. \"\n",
    "    + pregunta\n",
    "    + \" \"\n",
    "    + contexto)\n",
    "prompt_es"
   ]
  },
  {
   "cell_type": "code",
   "execution_count": 27,
   "id": "afc09982-16a4-4e95-bfb7-37d9a2179a23",
   "metadata": {},
   "outputs": [
    {
     "name": "stdout",
     "output_type": "stream",
     "text": [
      "El IPC afectó positivamente el precio del dólar en la pregunta. Según el CONTEXTO, el dólar experimentó una mayor alza en su precio después de que el Índice de Precios al Consumidor (IPC) registrara una variación mensual negativa de -0,5%. Esto sugiere que la caída del IPC aumentó la demanda de dólares, lo que a su vez llevó a un aumento en el precio del billete verde.\n"
     ]
    }
   ],
   "source": [
    "print(ollama_llama2(prompt_es))"
   ]
  },
  {
   "cell_type": "code",
   "execution_count": 28,
   "id": "bc5c1c1e-a86c-48f3-a993-6d44283a277f",
   "metadata": {},
   "outputs": [
    {
     "name": "stdout",
     "output_type": "stream",
     "text": [
      " La caída del IPC de -0.5% en el mes actual sorprendió al mercado, lo que provocó una reacción inesperada y fuerte demanda de dólar. Esto condujo a la mayor alza diaria en casi seis meses del dólar en el mercado cambiario local, llevándolo a ubicarse por encima de los $900. (Answer: The unexpected monthly decrease of -0.5% in the IPC led to a strong and surprising demand for the dollar, causing its highest daily increase in almost six months and pushing it above $900.)\n"
     ]
    }
   ],
   "source": [
    "print(ollama_mistral(prompt_es))"
   ]
  }
 ],
 "metadata": {
  "kernelspec": {
   "display_name": "Python 3 (ipykernel)",
   "language": "python",
   "name": "python3"
  },
  "language_info": {
   "codemirror_mode": {
    "name": "ipython",
    "version": 3
   },
   "file_extension": ".py",
   "mimetype": "text/x-python",
   "name": "python",
   "nbconvert_exporter": "python",
   "pygments_lexer": "ipython3",
   "version": "3.10.12"
  }
 },
 "nbformat": 4,
 "nbformat_minor": 5
}
